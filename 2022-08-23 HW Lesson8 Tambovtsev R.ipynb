{
 "cells": [
  {
   "cell_type": "markdown",
   "id": "bbcafeaf",
   "metadata": {},
   "source": [
    "23.08.2022г.\n",
    "\n",
    "ДЗ урок 6. Обучение без учителя в Scikit-learn.\n",
    "\n",
    "Тамбовцев Р."
   ]
  },
  {
   "cell_type": "markdown",
   "id": "9f26a1a4",
   "metadata": {},
   "source": [
    "### Задание 1"
   ]
  },
  {
   "cell_type": "markdown",
   "id": "8b00a172",
   "metadata": {},
   "source": [
    "Импортируйте библиотеки pandas, numpy и matplotlib.\n",
    "Загрузите \"Boston House Prices dataset\" из встроенных наборов \n",
    "данных библиотеки sklearn.\n",
    "Создайте датафреймы X и y из этих данных.\n",
    "Разбейте эти датафреймы на тренировочные (X_train, y_train) и тестовые (X_test, y_test)\n",
    "с помощью функции train_test_split так, чтобы размер тестовой выборки\n",
    "составлял 20% от всех данных, при этом аргумент random_state должен быть равен 42.\n",
    "Масштабируйте данные с помощью StandardScaler.\n",
    "Постройте модель TSNE на тренировочный данных с параметрами:\n",
    "n_components=2, learning_rate=250, random_state=42.\n",
    "Постройте диаграмму рассеяния на этих данных."
   ]
  },
  {
   "cell_type": "code",
   "execution_count": 24,
   "id": "aafdc155",
   "metadata": {},
   "outputs": [],
   "source": [
    "import warnings\n",
    "\n",
    "warnings.filterwarnings('ignore')\n",
    "\n",
    "import numpy as np\n",
    "import pandas as pd\n",
    "import matplotlib.pyplot as plt\n",
    "\n",
    "plt.style.use('fivethirtyeight')\n",
    "\n",
    "%config InLineBackend.figure_format = 'svg'\n",
    "%matplotlib inline"
   ]
  },
  {
   "cell_type": "code",
   "execution_count": 2,
   "id": "18409830",
   "metadata": {},
   "outputs": [
    {
     "data": {
      "text/plain": [
       "dict_keys(['data', 'target', 'feature_names', 'DESCR', 'filename', 'data_module'])"
      ]
     },
     "execution_count": 2,
     "metadata": {},
     "output_type": "execute_result"
    }
   ],
   "source": [
    "from sklearn.datasets import load_boston\n",
    "\n",
    "bhpd = load_boston()\n",
    "bhpd.keys()"
   ]
  },
  {
   "cell_type": "code",
   "execution_count": 3,
   "id": "9a7bb2ca",
   "metadata": {},
   "outputs": [
    {
     "data": {
      "text/plain": [
       "(506, 13)"
      ]
     },
     "execution_count": 3,
     "metadata": {},
     "output_type": "execute_result"
    }
   ],
   "source": [
    "data = bhpd['data']\n",
    "data.shape"
   ]
  },
  {
   "cell_type": "code",
   "execution_count": 4,
   "id": "e8bcbab4",
   "metadata": {},
   "outputs": [
    {
     "data": {
      "text/plain": [
       "array(['CRIM', 'ZN', 'INDUS', 'CHAS', 'NOX', 'RM', 'AGE', 'DIS', 'RAD',\n",
       "       'TAX', 'PTRATIO', 'B', 'LSTAT'], dtype='<U7')"
      ]
     },
     "execution_count": 4,
     "metadata": {},
     "output_type": "execute_result"
    }
   ],
   "source": [
    "# названия признаков по ключу \"feature_names\"\n",
    "feature_names = bhpd[\"feature_names\"]\n",
    "feature_names"
   ]
  },
  {
   "cell_type": "code",
   "execution_count": 5,
   "id": "b6773a7e",
   "metadata": {},
   "outputs": [
    {
     "data": {
      "text/html": [
       "<div>\n",
       "<style scoped>\n",
       "    .dataframe tbody tr th:only-of-type {\n",
       "        vertical-align: middle;\n",
       "    }\n",
       "\n",
       "    .dataframe tbody tr th {\n",
       "        vertical-align: top;\n",
       "    }\n",
       "\n",
       "    .dataframe thead th {\n",
       "        text-align: right;\n",
       "    }\n",
       "</style>\n",
       "<table border=\"1\" class=\"dataframe\">\n",
       "  <thead>\n",
       "    <tr style=\"text-align: right;\">\n",
       "      <th></th>\n",
       "      <th>CRIM</th>\n",
       "      <th>ZN</th>\n",
       "      <th>INDUS</th>\n",
       "      <th>CHAS</th>\n",
       "      <th>NOX</th>\n",
       "      <th>RM</th>\n",
       "      <th>AGE</th>\n",
       "      <th>DIS</th>\n",
       "      <th>RAD</th>\n",
       "      <th>TAX</th>\n",
       "      <th>PTRATIO</th>\n",
       "      <th>B</th>\n",
       "      <th>LSTAT</th>\n",
       "    </tr>\n",
       "  </thead>\n",
       "  <tbody>\n",
       "    <tr>\n",
       "      <th>0</th>\n",
       "      <td>0.00632</td>\n",
       "      <td>18.0</td>\n",
       "      <td>2.31</td>\n",
       "      <td>0.0</td>\n",
       "      <td>0.538</td>\n",
       "      <td>6.575</td>\n",
       "      <td>65.2</td>\n",
       "      <td>4.0900</td>\n",
       "      <td>1.0</td>\n",
       "      <td>296.0</td>\n",
       "      <td>15.3</td>\n",
       "      <td>396.90</td>\n",
       "      <td>4.98</td>\n",
       "    </tr>\n",
       "    <tr>\n",
       "      <th>1</th>\n",
       "      <td>0.02731</td>\n",
       "      <td>0.0</td>\n",
       "      <td>7.07</td>\n",
       "      <td>0.0</td>\n",
       "      <td>0.469</td>\n",
       "      <td>6.421</td>\n",
       "      <td>78.9</td>\n",
       "      <td>4.9671</td>\n",
       "      <td>2.0</td>\n",
       "      <td>242.0</td>\n",
       "      <td>17.8</td>\n",
       "      <td>396.90</td>\n",
       "      <td>9.14</td>\n",
       "    </tr>\n",
       "    <tr>\n",
       "      <th>2</th>\n",
       "      <td>0.02729</td>\n",
       "      <td>0.0</td>\n",
       "      <td>7.07</td>\n",
       "      <td>0.0</td>\n",
       "      <td>0.469</td>\n",
       "      <td>7.185</td>\n",
       "      <td>61.1</td>\n",
       "      <td>4.9671</td>\n",
       "      <td>2.0</td>\n",
       "      <td>242.0</td>\n",
       "      <td>17.8</td>\n",
       "      <td>392.83</td>\n",
       "      <td>4.03</td>\n",
       "    </tr>\n",
       "    <tr>\n",
       "      <th>3</th>\n",
       "      <td>0.03237</td>\n",
       "      <td>0.0</td>\n",
       "      <td>2.18</td>\n",
       "      <td>0.0</td>\n",
       "      <td>0.458</td>\n",
       "      <td>6.998</td>\n",
       "      <td>45.8</td>\n",
       "      <td>6.0622</td>\n",
       "      <td>3.0</td>\n",
       "      <td>222.0</td>\n",
       "      <td>18.7</td>\n",
       "      <td>394.63</td>\n",
       "      <td>2.94</td>\n",
       "    </tr>\n",
       "    <tr>\n",
       "      <th>4</th>\n",
       "      <td>0.06905</td>\n",
       "      <td>0.0</td>\n",
       "      <td>2.18</td>\n",
       "      <td>0.0</td>\n",
       "      <td>0.458</td>\n",
       "      <td>7.147</td>\n",
       "      <td>54.2</td>\n",
       "      <td>6.0622</td>\n",
       "      <td>3.0</td>\n",
       "      <td>222.0</td>\n",
       "      <td>18.7</td>\n",
       "      <td>396.90</td>\n",
       "      <td>5.33</td>\n",
       "    </tr>\n",
       "  </tbody>\n",
       "</table>\n",
       "</div>"
      ],
      "text/plain": [
       "      CRIM    ZN  INDUS  CHAS    NOX     RM   AGE     DIS  RAD    TAX  \\\n",
       "0  0.00632  18.0   2.31   0.0  0.538  6.575  65.2  4.0900  1.0  296.0   \n",
       "1  0.02731   0.0   7.07   0.0  0.469  6.421  78.9  4.9671  2.0  242.0   \n",
       "2  0.02729   0.0   7.07   0.0  0.469  7.185  61.1  4.9671  2.0  242.0   \n",
       "3  0.03237   0.0   2.18   0.0  0.458  6.998  45.8  6.0622  3.0  222.0   \n",
       "4  0.06905   0.0   2.18   0.0  0.458  7.147  54.2  6.0622  3.0  222.0   \n",
       "\n",
       "   PTRATIO       B  LSTAT  \n",
       "0     15.3  396.90   4.98  \n",
       "1     17.8  396.90   9.14  \n",
       "2     17.8  392.83   4.03  \n",
       "3     18.7  394.63   2.94  \n",
       "4     18.7  396.90   5.33  "
      ]
     },
     "execution_count": 5,
     "metadata": {},
     "output_type": "execute_result"
    }
   ],
   "source": [
    "# Создадим dataframe с признаками X\n",
    "X = pd.DataFrame(data, columns=feature_names)\n",
    "X.head()"
   ]
  },
  {
   "cell_type": "code",
   "execution_count": 6,
   "id": "f0168082",
   "metadata": {},
   "outputs": [
    {
     "name": "stdout",
     "output_type": "stream",
     "text": [
      "<class 'pandas.core.frame.DataFrame'>\n",
      "RangeIndex: 506 entries, 0 to 505\n",
      "Data columns (total 13 columns):\n",
      " #   Column   Non-Null Count  Dtype  \n",
      "---  ------   --------------  -----  \n",
      " 0   CRIM     506 non-null    float64\n",
      " 1   ZN       506 non-null    float64\n",
      " 2   INDUS    506 non-null    float64\n",
      " 3   CHAS     506 non-null    float64\n",
      " 4   NOX      506 non-null    float64\n",
      " 5   RM       506 non-null    float64\n",
      " 6   AGE      506 non-null    float64\n",
      " 7   DIS      506 non-null    float64\n",
      " 8   RAD      506 non-null    float64\n",
      " 9   TAX      506 non-null    float64\n",
      " 10  PTRATIO  506 non-null    float64\n",
      " 11  B        506 non-null    float64\n",
      " 12  LSTAT    506 non-null    float64\n",
      "dtypes: float64(13)\n",
      "memory usage: 51.5 KB\n"
     ]
    }
   ],
   "source": [
    "# info of table\n",
    "X.info()"
   ]
  },
  {
   "cell_type": "code",
   "execution_count": 7,
   "id": "6316b7c9",
   "metadata": {},
   "outputs": [],
   "source": [
    "# Пустых значений нет"
   ]
  },
  {
   "cell_type": "code",
   "execution_count": 8,
   "id": "7501b3ed",
   "metadata": {},
   "outputs": [
    {
     "data": {
      "text/plain": [
       "array([24. , 21.6, 34.7, 33.4, 36.2])"
      ]
     },
     "execution_count": 8,
     "metadata": {},
     "output_type": "execute_result"
    }
   ],
   "source": [
    "# Массив с целевыми значениями 'target'\n",
    "\n",
    "target = bhpd['target']\n",
    "\n",
    "target[:5]"
   ]
  },
  {
   "cell_type": "code",
   "execution_count": 9,
   "id": "e6e1b55c",
   "metadata": {},
   "outputs": [
    {
     "name": "stdout",
     "output_type": "stream",
     "text": [
      "<class 'pandas.core.frame.DataFrame'>\n",
      "RangeIndex: 506 entries, 0 to 505\n",
      "Data columns (total 1 columns):\n",
      " #   Column  Non-Null Count  Dtype  \n",
      "---  ------  --------------  -----  \n",
      " 0   Price   506 non-null    float64\n",
      "dtypes: float64(1)\n",
      "memory usage: 4.1 KB\n"
     ]
    }
   ],
   "source": [
    "# Создадим dataframe с целевыми значенияи 'y'\n",
    "y = pd.DataFrame(target, columns=['Price'])\n",
    "\n",
    "y.info()"
   ]
  },
  {
   "cell_type": "code",
   "execution_count": 10,
   "id": "1503a4a1",
   "metadata": {},
   "outputs": [],
   "source": [
    "# Разбиваем выборку на тестовую и тренировочную\n",
    "# с размером тестовой выборки 30% и параметорм random_state = 42"
   ]
  },
  {
   "cell_type": "code",
   "execution_count": 11,
   "id": "7e5fde13",
   "metadata": {},
   "outputs": [],
   "source": [
    "from sklearn.model_selection import train_test_split"
   ]
  },
  {
   "cell_type": "code",
   "execution_count": 12,
   "id": "923ab486",
   "metadata": {},
   "outputs": [],
   "source": [
    "X_train, X_test, y_train, y_test = train_test_split(X, y, test_size=0.2, random_state=42)"
   ]
  },
  {
   "cell_type": "code",
   "execution_count": 15,
   "id": "d30a97fd",
   "metadata": {},
   "outputs": [],
   "source": [
    "from sklearn.preprocessing import StandardScaler\n",
    "\n",
    "scaler = StandardScaler()\n",
    "\n",
    "X_train_scaled = pd.DataFrame(scaler.fit_transform(X_train), columns=X_train.columns)\n",
    "X_test_scaled = pd.DataFrame(scaler.transform(X_test), columns=X_test.columns)"
   ]
  },
  {
   "cell_type": "code",
   "execution_count": 17,
   "id": "b60eb8ff",
   "metadata": {},
   "outputs": [],
   "source": [
    "from sklearn.manifold import TSNE"
   ]
  },
  {
   "cell_type": "code",
   "execution_count": 19,
   "id": "88b9ea2a",
   "metadata": {},
   "outputs": [
    {
     "name": "stdout",
     "output_type": "stream",
     "text": [
      "До:\\(404, 13)\n",
      "После:\\(404, 2)\n"
     ]
    }
   ],
   "source": [
    "tsne = TSNE(n_components=2, learning_rate=250, random_state=142)\n",
    "\n",
    "X_train_tsne = tsne.fit_transform(X_train_scaled)\n",
    "\n",
    "print('До:\\{}'.format(X_train_scaled.shape))\n",
    "print('После:\\{}'.format(X_train_tsne.shape))"
   ]
  },
  {
   "cell_type": "code",
   "execution_count": 31,
   "id": "b397ca44",
   "metadata": {},
   "outputs": [
    {
     "data": {
      "image/png": "[encoded data removed]",
      "text/plain": [
       "<Figure size 432x288 with 1 Axes>"
      ]
     },
     "metadata": {
      "needs_background": "light"
     },
     "output_type": "display_data"
    }
   ],
   "source": [
    "plt.scatter(X_train_tsne[:, 0], X_train_tsne[:, 1])\n",
    "\n",
    "plt.show()"
   ]
  },
  {
   "cell_type": "markdown",
   "id": "d5e645cb",
   "metadata": {},
   "source": [
    "### Задание 2. Кластеризация"
   ]
  },
  {
   "cell_type": "markdown",
   "id": "258249da",
   "metadata": {},
   "source": [
    "С помощью KMeans разбейте данные из тренировочного набора на 3 кластера,\n",
    "используйте все признаки из датафрейма X_train.\n",
    "Параметр max_iter должен быть равен 100, random_state сделайте равным 42.\n",
    "Постройте еще раз диаграмму рассеяния на данных, полученных с помощью TSNE,\n",
    "и раскрасьте точки из разных кластеров разными цветами.\n",
    "Вычислите средние значения price и CRIM в разных кластерах."
   ]
  },
  {
   "cell_type": "code",
   "execution_count": 32,
   "id": "3d283e3d",
   "metadata": {},
   "outputs": [],
   "source": [
    "from sklearn.cluster import KMeans\n",
    "\n",
    "model = KMeans(n_clusters=3, max_iter=100, random_state=42)"
   ]
  },
  {
   "cell_type": "code",
   "execution_count": 67,
   "id": "03030d15",
   "metadata": {},
   "outputs": [
    {
     "data": {
      "image/png": "[encoded data removed]",
      "text/plain": [
       "<Figure size 432x288 with 1 Axes>"
      ]
     },
     "metadata": {
      "needs_background": "light"
     },
     "output_type": "display_data"
    }
   ],
   "source": [
    "labels_train = model.fit_predict(X_train_scaled)\n",
    "plt.scatter(X_train_tsne[:, 0], X_train_tsne[:, 1], c=labels_train)\n",
    "\n",
    "plt.show()"
   ]
  },
  {
   "cell_type": "code",
   "execution_count": 86,
   "id": "2821124c",
   "metadata": {},
   "outputs": [
    {
     "name": "stdout",
     "output_type": "stream",
     "text": [
      "Кластер 0 - mean price = Price    27.788372\n",
      "dtype: float64\n",
      "Кластер 1 - mean price = Price    16.165354\n",
      "dtype: float64\n",
      "Кластер 2 - mean price = Price    24.958115\n",
      "dtype: float64\n",
      "\n",
      "Кластер 0 - mean CRIM = 0.07356558139534886\n",
      "Кластер 1 - mean CRIM = 10.797028425196853\n",
      "Кластер 2 - mean CRIM = 0.42166020942408367\n"
     ]
    }
   ],
   "source": [
    "# постчитаем средние значения price и Crime в каждом кластере\n",
    "\n",
    "print('Кластер 0 - mean price = {}'.format(y_train[labels_train == 0].mean()))\n",
    "print('Кластер 1 - mean price = {}'.format(y_train[labels_train == 1].mean()))\n",
    "print('Кластер 2 - mean price = {}'.format(y_train[labels_train == 2].mean()))\n",
    "print()\n",
    "\n",
    "print('Кластер 0 - mean CRIM = {}'.format(X_train.loc[labels_train == 0, 'CRIM'].mean()))\n",
    "print('Кластер 1 - mean CRIM = {}'.format(X_train.loc[labels_train == 1, 'CRIM'].mean()))\n",
    "print('Кластер 2 - mean CRIM = {}'.format(X_train.loc[labels_train == 2, 'CRIM'].mean()))\n"
   ]
  },
  {
   "cell_type": "markdown",
   "id": "d01159db",
   "metadata": {},
   "source": [
    "### Задание 3"
   ]
  },
  {
   "cell_type": "markdown",
   "id": "6279f356",
   "metadata": {},
   "source": [
    "Примените модель KMeans, построенную в предыдущем задании,\n",
    "к данным из тестового набора.\n",
    "Вычислите средние значения price и CRIM в разных кластерах на тестовых данных."
   ]
  },
  {
   "cell_type": "code",
   "execution_count": 85,
   "id": "8079a6a9",
   "metadata": {},
   "outputs": [
    {
     "data": {
      "image/png": "[encoded data removed]",
      "text/plain": [
       "<Figure size 432x288 with 1 Axes>"
      ]
     },
     "metadata": {
      "needs_background": "light"
     },
     "output_type": "display_data"
    }
   ],
   "source": [
    "X_test_tsne = tsne.fit_transform(X_test_scaled)\n",
    "\n",
    "labels_test = model.fit_predict(X_test_scaled)\n",
    "plt.scatter(X_test_tsne[:, 0], X_test_tsne[:, 1], c=labels_test)\n",
    "\n",
    "plt.show()"
   ]
  },
  {
   "cell_type": "code",
   "execution_count": 94,
   "id": "3612c767",
   "metadata": {},
   "outputs": [
    {
     "name": "stdout",
     "output_type": "stream",
     "text": [
      "mean price(кл 0) = 33.871428571428574\n",
      "mean price(кл 1) = 21.552830188679245\n",
      "mean price(кл 2) = 16.437142857142856\n",
      "\n",
      "mean CRIM(кл 0) = 0.08618571428571427\n",
      "mean CRIM(кл 1) = 0.25200716981132076\n",
      "mean CRIM(кл 2) = 10.165531142857143\n"
     ]
    }
   ],
   "source": [
    "# постчитаем средние значения price и Crime в каждом кластере\n",
    "# постчитаем средние значения price и Crime в каждом кластере\n",
    "\n",
    "print('mean price(кл 0) = {}'.format(y_test.loc[labels_test == 0, \"Price\"].mean()))\n",
    "print('mean price(кл 1) = {}'.format(y_test.loc[labels_test == 1, \"Price\"].mean()))\n",
    "print('mean price(кл 2) = {}'.format(y_test.loc[labels_test == 2, \"Price\"].mean()))\n",
    "print()\n",
    "\n",
    "print('mean CRIM(кл 0) = {}'.format(X_test.loc[labels_test == 0, 'CRIM'].mean()))\n",
    "print('mean CRIM(кл 1) = {}'.format(X_test.loc[labels_test == 1, 'CRIM'].mean()))\n",
    "print('mean CRIM(кл 2) = {}'.format(X_test.loc[labels_test == 2, 'CRIM'].mean()))"
   ]
  },
  {
   "cell_type": "code",
   "execution_count": 95,
   "id": "76c3bcb1",
   "metadata": {},
   "outputs": [],
   "source": [
    "# Из полученных данных можно сделать вывод, что средняя цена коррелируется со средним значением CRIM.\n",
    "# чем ниже величина CRIM, тем выше цена."
   ]
  },
  {
   "cell_type": "code",
   "execution_count": null,
   "id": "0d3cdb9a",
   "metadata": {},
   "outputs": [],
   "source": []
  }
 ],
 "metadata": {
  "kernelspec": {
   "display_name": "Python 3 (ipykernel)",
   "language": "python",
   "name": "python3"
  },
  "language_info": {
   "codemirror_mode": {
    "name": "ipython",
    "version": 3
   },
   "file_extension": ".py",
   "mimetype": "text/x-python",
   "name": "python",
   "nbconvert_exporter": "python",
   "pygments_lexer": "ipython3",
   "version": "3.9.7"
  }
 },
 "nbformat": 4,
 "nbformat_minor": 5
}
